{
 "cells": [
  {
   "cell_type": "code",
   "execution_count": 2,
   "metadata": {
    "_cell_guid": "b1076dfc-b9ad-4769-8c92-a6c4dae69d19",
    "_uuid": "8f2839f25d086af736a60e9eeb907d3b93b6e0e5",
    "execution": {
     "iopub.execute_input": "2024-03-13T18:53:07.626136Z",
     "iopub.status.busy": "2024-03-13T18:53:07.625725Z",
     "iopub.status.idle": "2024-03-13T18:53:25.475103Z",
     "shell.execute_reply": "2024-03-13T18:53:25.473973Z",
     "shell.execute_reply.started": "2024-03-13T18:53:07.626101Z"
    }
   },
   "outputs": [
    {
     "name": "stdout",
     "output_type": "stream",
     "text": [
      "Requirement already satisfied: caer in c:\\users\\user\\anaconda3\\lib\\site-packages (2.0.8)\n",
      "Requirement already satisfied: canaro in c:\\users\\user\\anaconda3\\lib\\site-packages (1.1.0)\n",
      "Requirement already satisfied: opencv-contrib-python in c:\\users\\user\\anaconda3\\lib\\site-packages (from caer) (4.9.0.80)\n",
      "Requirement already satisfied: mypy in c:\\users\\user\\anaconda3\\lib\\site-packages (from caer) (1.8.0)\n",
      "Requirement already satisfied: typing-extensions in c:\\users\\user\\anaconda3\\lib\\site-packages (from caer) (4.3.0)\n",
      "Requirement already satisfied: numpy in c:\\users\\user\\anaconda3\\lib\\site-packages (from caer) (1.21.5)\n",
      "Requirement already satisfied: tensorflow in c:\\users\\user\\anaconda3\\lib\\site-packages (from canaro) (2.11.0)\n",
      "Requirement already satisfied: mypy-extensions>=1.0.0 in c:\\users\\user\\anaconda3\\lib\\site-packages (from mypy->caer) (1.0.0)\n",
      "Requirement already satisfied: tomli>=1.1.0 in c:\\users\\user\\anaconda3\\lib\\site-packages (from mypy->caer) (2.0.1)\n",
      "Requirement already satisfied: tensorflow-intel==2.11.0 in c:\\users\\user\\anaconda3\\lib\\site-packages (from tensorflow->canaro) (2.11.0)\n",
      "Requirement already satisfied: setuptools in c:\\users\\user\\anaconda3\\lib\\site-packages (from tensorflow-intel==2.11.0->tensorflow->canaro) (63.4.1)\n",
      "Requirement already satisfied: termcolor>=1.1.0 in c:\\users\\user\\anaconda3\\lib\\site-packages (from tensorflow-intel==2.11.0->tensorflow->canaro) (2.2.0)\n",
      "Requirement already satisfied: tensorboard<2.12,>=2.11 in c:\\users\\user\\anaconda3\\lib\\site-packages (from tensorflow-intel==2.11.0->tensorflow->canaro) (2.11.2)\n",
      "Requirement already satisfied: packaging in c:\\users\\user\\anaconda3\\lib\\site-packages (from tensorflow-intel==2.11.0->tensorflow->canaro) (21.3)\n",
      "Requirement already satisfied: flatbuffers>=2.0 in c:\\users\\user\\anaconda3\\lib\\site-packages (from tensorflow-intel==2.11.0->tensorflow->canaro) (23.3.3)\n",
      "Requirement already satisfied: protobuf<3.20,>=3.9.2 in c:\\users\\user\\anaconda3\\lib\\site-packages (from tensorflow-intel==2.11.0->tensorflow->canaro) (3.19.6)\n",
      "Requirement already satisfied: six>=1.12.0 in c:\\users\\user\\anaconda3\\lib\\site-packages (from tensorflow-intel==2.11.0->tensorflow->canaro) (1.16.0)\n",
      "Requirement already satisfied: tensorflow-estimator<2.12,>=2.11.0 in c:\\users\\user\\anaconda3\\lib\\site-packages (from tensorflow-intel==2.11.0->tensorflow->canaro) (2.11.0)\n",
      "Requirement already satisfied: absl-py>=1.0.0 in c:\\users\\user\\anaconda3\\lib\\site-packages (from tensorflow-intel==2.11.0->tensorflow->canaro) (1.4.0)\n",
      "Requirement already satisfied: h5py>=2.9.0 in c:\\users\\user\\anaconda3\\lib\\site-packages (from tensorflow-intel==2.11.0->tensorflow->canaro) (3.7.0)\n",
      "Requirement already satisfied: google-pasta>=0.1.1 in c:\\users\\user\\anaconda3\\lib\\site-packages (from tensorflow-intel==2.11.0->tensorflow->canaro) (0.2.0)\n",
      "Requirement already satisfied: gast<=0.4.0,>=0.2.1 in c:\\users\\user\\anaconda3\\lib\\site-packages (from tensorflow-intel==2.11.0->tensorflow->canaro) (0.4.0)\n",
      "Requirement already satisfied: libclang>=13.0.0 in c:\\users\\user\\anaconda3\\lib\\site-packages (from tensorflow-intel==2.11.0->tensorflow->canaro) (15.0.6.1)\n",
      "Requirement already satisfied: opt-einsum>=2.3.2 in c:\\users\\user\\anaconda3\\lib\\site-packages (from tensorflow-intel==2.11.0->tensorflow->canaro) (3.3.0)\n",
      "Requirement already satisfied: tensorflow-io-gcs-filesystem>=0.23.1 in c:\\users\\user\\anaconda3\\lib\\site-packages (from tensorflow-intel==2.11.0->tensorflow->canaro) (0.31.0)\n",
      "Requirement already satisfied: grpcio<2.0,>=1.24.3 in c:\\users\\user\\anaconda3\\lib\\site-packages (from tensorflow-intel==2.11.0->tensorflow->canaro) (1.51.3)\n",
      "Requirement already satisfied: wrapt>=1.11.0 in c:\\users\\user\\anaconda3\\lib\\site-packages (from tensorflow-intel==2.11.0->tensorflow->canaro) (1.14.1)\n",
      "Requirement already satisfied: keras<2.12,>=2.11.0 in c:\\users\\user\\anaconda3\\lib\\site-packages (from tensorflow-intel==2.11.0->tensorflow->canaro) (2.11.0)\n",
      "Requirement already satisfied: astunparse>=1.6.0 in c:\\users\\user\\anaconda3\\lib\\site-packages (from tensorflow-intel==2.11.0->tensorflow->canaro) (1.6.3)\n",
      "Requirement already satisfied: wheel<1.0,>=0.23.0 in c:\\users\\user\\anaconda3\\lib\\site-packages (from astunparse>=1.6.0->tensorflow-intel==2.11.0->tensorflow->canaro) (0.37.1)\n",
      "Requirement already satisfied: markdown>=2.6.8 in c:\\users\\user\\anaconda3\\lib\\site-packages (from tensorboard<2.12,>=2.11->tensorflow-intel==2.11.0->tensorflow->canaro) (3.3.4)\n",
      "Requirement already satisfied: google-auth-oauthlib<0.5,>=0.4.1 in c:\\users\\user\\anaconda3\\lib\\site-packages (from tensorboard<2.12,>=2.11->tensorflow-intel==2.11.0->tensorflow->canaro) (0.4.6)\n",
      "Requirement already satisfied: werkzeug>=1.0.1 in c:\\users\\user\\anaconda3\\lib\\site-packages (from tensorboard<2.12,>=2.11->tensorflow-intel==2.11.0->tensorflow->canaro) (2.0.3)\n",
      "Requirement already satisfied: requests<3,>=2.21.0 in c:\\users\\user\\anaconda3\\lib\\site-packages (from tensorboard<2.12,>=2.11->tensorflow-intel==2.11.0->tensorflow->canaro) (2.28.1)\n",
      "Requirement already satisfied: tensorboard-data-server<0.7.0,>=0.6.0 in c:\\users\\user\\anaconda3\\lib\\site-packages (from tensorboard<2.12,>=2.11->tensorflow-intel==2.11.0->tensorflow->canaro) (0.6.1)\n",
      "Requirement already satisfied: google-auth<3,>=1.6.3 in c:\\users\\user\\anaconda3\\lib\\site-packages (from tensorboard<2.12,>=2.11->tensorflow-intel==2.11.0->tensorflow->canaro) (2.16.2)\n",
      "Requirement already satisfied: tensorboard-plugin-wit>=1.6.0 in c:\\users\\user\\anaconda3\\lib\\site-packages (from tensorboard<2.12,>=2.11->tensorflow-intel==2.11.0->tensorflow->canaro) (1.8.1)\n",
      "Requirement already satisfied: pyparsing!=3.0.5,>=2.0.2 in c:\\users\\user\\anaconda3\\lib\\site-packages (from packaging->tensorflow-intel==2.11.0->tensorflow->canaro) (3.0.9)\n",
      "Requirement already satisfied: rsa<5,>=3.1.4 in c:\\users\\user\\anaconda3\\lib\\site-packages (from google-auth<3,>=1.6.3->tensorboard<2.12,>=2.11->tensorflow-intel==2.11.0->tensorflow->canaro) (4.9)\n",
      "Requirement already satisfied: cachetools<6.0,>=2.0.0 in c:\\users\\user\\anaconda3\\lib\\site-packages (from google-auth<3,>=1.6.3->tensorboard<2.12,>=2.11->tensorflow-intel==2.11.0->tensorflow->canaro) (5.3.0)\n",
      "Requirement already satisfied: pyasn1-modules>=0.2.1 in c:\\users\\user\\anaconda3\\lib\\site-packages (from google-auth<3,>=1.6.3->tensorboard<2.12,>=2.11->tensorflow-intel==2.11.0->tensorflow->canaro) (0.2.8)\n",
      "Requirement already satisfied: requests-oauthlib>=0.7.0 in c:\\users\\user\\anaconda3\\lib\\site-packages (from google-auth-oauthlib<0.5,>=0.4.1->tensorboard<2.12,>=2.11->tensorflow-intel==2.11.0->tensorflow->canaro) (1.3.1)\n",
      "Requirement already satisfied: charset-normalizer<3,>=2 in c:\\users\\user\\anaconda3\\lib\\site-packages (from requests<3,>=2.21.0->tensorboard<2.12,>=2.11->tensorflow-intel==2.11.0->tensorflow->canaro) (2.0.4)\n",
      "Requirement already satisfied: certifi>=2017.4.17 in c:\\users\\user\\anaconda3\\lib\\site-packages (from requests<3,>=2.21.0->tensorboard<2.12,>=2.11->tensorflow-intel==2.11.0->tensorflow->canaro) (2022.9.14)\n",
      "Requirement already satisfied: urllib3<1.27,>=1.21.1 in c:\\users\\user\\anaconda3\\lib\\site-packages (from requests<3,>=2.21.0->tensorboard<2.12,>=2.11->tensorflow-intel==2.11.0->tensorflow->canaro) (1.26.11)\n",
      "Requirement already satisfied: idna<4,>=2.5 in c:\\users\\user\\anaconda3\\lib\\site-packages (from requests<3,>=2.21.0->tensorboard<2.12,>=2.11->tensorflow-intel==2.11.0->tensorflow->canaro) (3.3)\n",
      "Requirement already satisfied: pyasn1<0.5.0,>=0.4.6 in c:\\users\\user\\anaconda3\\lib\\site-packages (from pyasn1-modules>=0.2.1->google-auth<3,>=1.6.3->tensorboard<2.12,>=2.11->tensorflow-intel==2.11.0->tensorflow->canaro) (0.4.8)\n",
      "Requirement already satisfied: oauthlib>=3.0.0 in c:\\users\\user\\anaconda3\\lib\\site-packages (from requests-oauthlib>=0.7.0->google-auth-oauthlib<0.5,>=0.4.1->tensorboard<2.12,>=2.11->tensorflow-intel==2.11.0->tensorflow->canaro) (3.2.2)\n",
      "Note: you may need to restart the kernel to use updated packages.\n"
     ]
    }
   ],
   "source": [
    "pip install caer canaro"
   ]
  },
  {
   "cell_type": "code",
   "execution_count": 3,
   "metadata": {
    "execution": {
     "iopub.execute_input": "2024-03-13T18:53:25.478305Z",
     "iopub.status.busy": "2024-03-13T18:53:25.477483Z",
     "iopub.status.idle": "2024-03-13T18:53:39.595800Z",
     "shell.execute_reply": "2024-03-13T18:53:39.594492Z",
     "shell.execute_reply.started": "2024-03-13T18:53:25.478266Z"
    }
   },
   "outputs": [],
   "source": [
    "import os\n",
    "import caer\n",
    "import canaro\n",
    "import numpy as np\n",
    "import cv2 as cv\n",
    "import gc"
   ]
  },
  {
   "cell_type": "code",
   "execution_count": 4,
   "metadata": {
    "execution": {
     "iopub.execute_input": "2024-03-13T18:53:39.597998Z",
     "iopub.status.busy": "2024-03-13T18:53:39.597267Z",
     "iopub.status.idle": "2024-03-13T18:53:39.603192Z",
     "shell.execute_reply": "2024-03-13T18:53:39.602049Z",
     "shell.execute_reply.started": "2024-03-13T18:53:39.597954Z"
    }
   },
   "outputs": [],
   "source": [
    "IMG_SIZE = (80,80)\n",
    "channels = 1\n",
    "char_path = r'/kaggle/input/the-simpsons-characters-dataset/simpsons_dataset'"
   ]
  },
  {
   "cell_type": "code",
   "execution_count": 5,
   "metadata": {
    "execution": {
     "iopub.execute_input": "2024-03-13T18:53:39.606743Z",
     "iopub.status.busy": "2024-03-13T18:53:39.606110Z",
     "iopub.status.idle": "2024-03-13T18:53:44.918047Z",
     "shell.execute_reply": "2024-03-13T18:53:44.917092Z",
     "shell.execute_reply.started": "2024-03-13T18:53:39.606716Z"
    }
   },
   "outputs": [
    {
     "ename": "FileNotFoundError",
     "evalue": "[WinError 3] The system cannot find the path specified: '/kaggle/input/the-simpsons-characters-dataset/simpsons_dataset'",
     "output_type": "error",
     "traceback": [
      "\u001b[1;31m---------------------------------------------------------------------------\u001b[0m",
      "\u001b[1;31mFileNotFoundError\u001b[0m                         Traceback (most recent call last)",
      "\u001b[1;32m~\\AppData\\Local\\Temp\\ipykernel_27308\\3451712631.py\u001b[0m in \u001b[0;36m<module>\u001b[1;34m\u001b[0m\n\u001b[0;32m      1\u001b[0m \u001b[0mchar_dict\u001b[0m \u001b[1;33m=\u001b[0m \u001b[1;33m{\u001b[0m\u001b[1;33m}\u001b[0m\u001b[1;33m\u001b[0m\u001b[1;33m\u001b[0m\u001b[0m\n\u001b[1;32m----> 2\u001b[1;33m \u001b[1;32mfor\u001b[0m \u001b[0mchar\u001b[0m \u001b[1;32min\u001b[0m \u001b[0mos\u001b[0m\u001b[1;33m.\u001b[0m\u001b[0mlistdir\u001b[0m\u001b[1;33m(\u001b[0m\u001b[0mchar_path\u001b[0m\u001b[1;33m)\u001b[0m\u001b[1;33m:\u001b[0m\u001b[1;33m\u001b[0m\u001b[1;33m\u001b[0m\u001b[0m\n\u001b[0m\u001b[0;32m      3\u001b[0m     \u001b[0mchar_dict\u001b[0m\u001b[1;33m[\u001b[0m\u001b[0mchar\u001b[0m\u001b[1;33m]\u001b[0m \u001b[1;33m=\u001b[0m \u001b[0mlen\u001b[0m\u001b[1;33m(\u001b[0m\u001b[0mos\u001b[0m\u001b[1;33m.\u001b[0m\u001b[0mlistdir\u001b[0m\u001b[1;33m(\u001b[0m\u001b[0mos\u001b[0m\u001b[1;33m.\u001b[0m\u001b[0mpath\u001b[0m\u001b[1;33m.\u001b[0m\u001b[0mjoin\u001b[0m\u001b[1;33m(\u001b[0m\u001b[0mchar_path\u001b[0m\u001b[1;33m,\u001b[0m \u001b[0mchar\u001b[0m\u001b[1;33m)\u001b[0m\u001b[1;33m)\u001b[0m\u001b[1;33m)\u001b[0m\u001b[1;33m\u001b[0m\u001b[1;33m\u001b[0m\u001b[0m\n\u001b[0;32m      4\u001b[0m \u001b[1;33m\u001b[0m\u001b[0m\n\u001b[0;32m      5\u001b[0m \u001b[1;31m# sort the dictionary in decending order\u001b[0m\u001b[1;33m\u001b[0m\u001b[1;33m\u001b[0m\u001b[0m\n",
      "\u001b[1;31mFileNotFoundError\u001b[0m: [WinError 3] The system cannot find the path specified: '/kaggle/input/the-simpsons-characters-dataset/simpsons_dataset'"
     ]
    }
   ],
   "source": [
    "char_dict = {}\n",
    "for char in os.listdir(char_path):\n",
    "    char_dict[char] = len(os.listdir(os.path.join(char_path, char)))\n",
    "    \n",
    "# sort the dictionary in decending order\n",
    "char_dict = caer.sort_dict(char_dict, descending = True)\n",
    "char_dict"
   ]
  },
  {
   "cell_type": "code",
   "execution_count": null,
   "metadata": {
    "execution": {
     "iopub.execute_input": "2024-03-13T18:53:44.919708Z",
     "iopub.status.busy": "2024-03-13T18:53:44.919324Z",
     "iopub.status.idle": "2024-03-13T18:53:44.927361Z",
     "shell.execute_reply": "2024-03-13T18:53:44.926405Z",
     "shell.execute_reply.started": "2024-03-13T18:53:44.919677Z"
    }
   },
   "outputs": [],
   "source": [
    "characters = []\n",
    "count = 0\n",
    "for i in char_dict:\n",
    "    characters.append(i[0])\n",
    "    count += 1\n",
    "    if count >= 10:\n",
    "        break\n",
    "characters"
   ]
  },
  {
   "cell_type": "code",
   "execution_count": null,
   "metadata": {
    "execution": {
     "iopub.execute_input": "2024-03-13T18:53:44.929468Z",
     "iopub.status.busy": "2024-03-13T18:53:44.929084Z",
     "iopub.status.idle": "2024-03-13T18:56:00.407156Z",
     "shell.execute_reply": "2024-03-13T18:56:00.406041Z",
     "shell.execute_reply.started": "2024-03-13T18:53:44.929443Z"
    }
   },
   "outputs": [],
   "source": [
    "# Create the training data\n",
    "\n",
    "train = caer.preprocess_from_dir(char_path, characters, channels = channels, IMG_SIZE = IMG_SIZE, isShuffle= True)"
   ]
  },
  {
   "cell_type": "code",
   "execution_count": null,
   "metadata": {
    "execution": {
     "iopub.execute_input": "2024-03-13T18:56:00.408647Z",
     "iopub.status.busy": "2024-03-13T18:56:00.408343Z",
     "iopub.status.idle": "2024-03-13T18:56:00.415379Z",
     "shell.execute_reply": "2024-03-13T18:56:00.414391Z",
     "shell.execute_reply.started": "2024-03-13T18:56:00.408621Z"
    }
   },
   "outputs": [],
   "source": [
    "len(train)"
   ]
  },
  {
   "cell_type": "code",
   "execution_count": null,
   "metadata": {
    "execution": {
     "iopub.execute_input": "2024-03-13T18:56:00.416883Z",
     "iopub.status.busy": "2024-03-13T18:56:00.416593Z",
     "iopub.status.idle": "2024-03-13T18:56:00.909871Z",
     "shell.execute_reply": "2024-03-13T18:56:00.908953Z",
     "shell.execute_reply.started": "2024-03-13T18:56:00.416859Z"
    }
   },
   "outputs": [],
   "source": [
    "import matplotlib.pyplot as plt\n",
    "plt.figure(figsize=(15,15))\n",
    "plt.imshow(train[0][0], cmap = 'gray')\n",
    "plt.show()"
   ]
  },
  {
   "cell_type": "code",
   "execution_count": null,
   "metadata": {
    "execution": {
     "iopub.execute_input": "2024-03-13T18:56:00.911347Z",
     "iopub.status.busy": "2024-03-13T18:56:00.910994Z",
     "iopub.status.idle": "2024-03-13T18:56:00.970064Z",
     "shell.execute_reply": "2024-03-13T18:56:00.969041Z",
     "shell.execute_reply.started": "2024-03-13T18:56:00.911310Z"
    }
   },
   "outputs": [],
   "source": [
    "featuresSet, labels = caer.sep_train(train, IMG_SIZE = IMG_SIZE)"
   ]
  },
  {
   "cell_type": "code",
   "execution_count": null,
   "metadata": {
    "execution": {
     "iopub.execute_input": "2024-03-13T18:56:00.973633Z",
     "iopub.status.busy": "2024-03-13T18:56:00.973334Z",
     "iopub.status.idle": "2024-03-13T18:56:01.097606Z",
     "shell.execute_reply": "2024-03-13T18:56:01.096746Z",
     "shell.execute_reply.started": "2024-03-13T18:56:00.973609Z"
    }
   },
   "outputs": [],
   "source": [
    "from tensorflow.keras.utils import to_categorical\n",
    "# Normalize the featureSet ==> (0,1)\n",
    "featureSet = caer.normalize(featuresSet)\n",
    "labels = to_categorical(labels, len(characters))\n"
   ]
  },
  {
   "cell_type": "code",
   "execution_count": null,
   "metadata": {
    "execution": {
     "iopub.execute_input": "2024-03-13T18:56:01.099038Z",
     "iopub.status.busy": "2024-03-13T18:56:01.098723Z",
     "iopub.status.idle": "2024-03-13T18:56:01.451356Z",
     "shell.execute_reply": "2024-03-13T18:56:01.450271Z",
     "shell.execute_reply.started": "2024-03-13T18:56:01.099001Z"
    }
   },
   "outputs": [],
   "source": [
    "x_train, x_val, y_train, y_val = caer.train_val_split(featureSet, labels, val_ratio = 0.2)"
   ]
  },
  {
   "cell_type": "code",
   "execution_count": null,
   "metadata": {
    "execution": {
     "iopub.execute_input": "2024-03-13T18:56:01.453125Z",
     "iopub.status.busy": "2024-03-13T18:56:01.452768Z",
     "iopub.status.idle": "2024-03-13T18:56:01.667805Z",
     "shell.execute_reply": "2024-03-13T18:56:01.666562Z",
     "shell.execute_reply.started": "2024-03-13T18:56:01.453098Z"
    }
   },
   "outputs": [],
   "source": [
    "del train\n",
    "del featureSet\n",
    "del labels\n",
    "gc.collect()"
   ]
  },
  {
   "cell_type": "code",
   "execution_count": null,
   "metadata": {
    "execution": {
     "iopub.execute_input": "2024-03-13T18:56:01.669434Z",
     "iopub.status.busy": "2024-03-13T18:56:01.669004Z",
     "iopub.status.idle": "2024-03-13T18:56:01.675689Z",
     "shell.execute_reply": "2024-03-13T18:56:01.674693Z",
     "shell.execute_reply.started": "2024-03-13T18:56:01.669407Z"
    }
   },
   "outputs": [],
   "source": [
    "BATCH_SIZE = 32\n",
    "EPOCHS = 10"
   ]
  },
  {
   "cell_type": "code",
   "execution_count": null,
   "metadata": {
    "execution": {
     "iopub.execute_input": "2024-03-13T18:56:01.677203Z",
     "iopub.status.busy": "2024-03-13T18:56:01.676893Z",
     "iopub.status.idle": "2024-03-13T18:56:01.687106Z",
     "shell.execute_reply": "2024-03-13T18:56:01.685920Z",
     "shell.execute_reply.started": "2024-03-13T18:56:01.677179Z"
    }
   },
   "outputs": [],
   "source": [
    "\n",
    "# Image data generator\n",
    "\n",
    "datagen = canaro.generators.imageDataGenerator()\n",
    "train_gen = datagen.flow(x_train, y_train, batch_size = BATCH_SIZE)"
   ]
  },
  {
   "cell_type": "code",
   "execution_count": null,
   "metadata": {
    "execution": {
     "iopub.execute_input": "2024-03-13T18:56:34.875856Z",
     "iopub.status.busy": "2024-03-13T18:56:34.875008Z",
     "iopub.status.idle": "2024-03-13T18:56:34.880151Z",
     "shell.execute_reply": "2024-03-13T18:56:34.879171Z",
     "shell.execute_reply.started": "2024-03-13T18:56:34.875826Z"
    }
   },
   "outputs": [],
   "source": [
    "from keras.models import Sequential\n",
    "from keras.layers import Dense, Conv2D, MaxPooling2D, Flatten"
   ]
  },
  {
   "cell_type": "code",
   "execution_count": null,
   "metadata": {
    "execution": {
     "iopub.execute_input": "2024-03-13T18:58:58.844449Z",
     "iopub.status.busy": "2024-03-13T18:58:58.843520Z",
     "iopub.status.idle": "2024-03-13T18:58:58.921826Z",
     "shell.execute_reply": "2024-03-13T18:58:58.921055Z",
     "shell.execute_reply.started": "2024-03-13T18:58:58.844413Z"
    }
   },
   "outputs": [],
   "source": [
    "# Create a Sequential model\n",
    "model = Sequential()\n",
    "\n",
    "# Add convolutional layers\n",
    "model.add(Conv2D(32, kernel_size=(3, 3), activation='relu', input_shape=(IMG_SIZE[0], IMG_SIZE[1], channels)))\n",
    "model.add(MaxPooling2D(pool_size=(2, 2)))\n",
    "model.add(Conv2D(64, kernel_size=(3, 3), activation='relu'))\n",
    "model.add(MaxPooling2D(pool_size=(2, 2)))\n",
    "model.add(Flatten())\n",
    "\n",
    "# Add dense layers\n",
    "model.add(Dense(128, activation='relu'))\n",
    "model.add(Dense(len(characters), activation='softmax'))\n",
    "\n",
    "# Compile the model\n",
    "model.compile(loss='binary_crossentropy', optimizer='sgd', metrics=['accuracy'])"
   ]
  },
  {
   "cell_type": "code",
   "execution_count": null,
   "metadata": {
    "execution": {
     "iopub.execute_input": "2024-03-13T18:59:23.276324Z",
     "iopub.status.busy": "2024-03-13T18:59:23.275939Z",
     "iopub.status.idle": "2024-03-13T18:59:23.304855Z",
     "shell.execute_reply": "2024-03-13T18:59:23.303232Z",
     "shell.execute_reply.started": "2024-03-13T18:59:23.276294Z"
    }
   },
   "outputs": [],
   "source": [
    "\n",
    "model.summary()"
   ]
  },
  {
   "cell_type": "code",
   "execution_count": null,
   "metadata": {
    "execution": {
     "iopub.execute_input": "2024-03-13T19:04:52.748391Z",
     "iopub.status.busy": "2024-03-13T19:04:52.747448Z",
     "iopub.status.idle": "2024-03-13T19:04:52.752516Z",
     "shell.execute_reply": "2024-03-13T19:04:52.751576Z",
     "shell.execute_reply.started": "2024-03-13T19:04:52.748357Z"
    }
   },
   "outputs": [],
   "source": [
    "from tensorflow.keras.callbacks import LearningRateScheduler\n",
    "callback_list = [LearningRateScheduler(canaro.lr_schedule)]"
   ]
  },
  {
   "cell_type": "code",
   "execution_count": null,
   "metadata": {
    "execution": {
     "iopub.execute_input": "2024-03-13T19:05:57.895364Z",
     "iopub.status.busy": "2024-03-13T19:05:57.894528Z",
     "iopub.status.idle": "2024-03-13T19:07:50.741174Z",
     "shell.execute_reply": "2024-03-13T19:07:50.740220Z",
     "shell.execute_reply.started": "2024-03-13T19:05:57.895325Z"
    }
   },
   "outputs": [],
   "source": [
    "training = model.fit(train_gen,\n",
    "                    steps_per_epoch = len(x_train)//BATCH_SIZE,\n",
    "                    epochs = EPOCHS,\n",
    "                    validation_data = (x_val, y_val),\n",
    "                    validation_steps = len(y_val)//BATCH_SIZE,\n",
    "                     callbacks = callback_list)"
   ]
  },
  {
   "cell_type": "code",
   "execution_count": null,
   "metadata": {
    "execution": {
     "iopub.execute_input": "2024-03-13T19:17:19.957670Z",
     "iopub.status.busy": "2024-03-13T19:17:19.957293Z",
     "iopub.status.idle": "2024-03-13T19:17:19.964152Z",
     "shell.execute_reply": "2024-03-13T19:17:19.963172Z",
     "shell.execute_reply.started": "2024-03-13T19:17:19.957640Z"
    }
   },
   "outputs": [],
   "source": [
    "# Take one bart_simpsons image and try to predict\n",
    "test_path = (r'/kaggle/input/the-simpsons-characters-dataset/kaggle_simpson_testset/kaggle_simpson_testset/charles_montgomery_burns_0.jpg')\n",
    "\n",
    "img = cv.imread(test_path)\n",
    "\n",
    "def prepare(img):\n",
    "    img = cv.cvtColor(img, cv.COLOR_BGR2GRAY)\n",
    "    img = cv.resize(img, IMG_SIZE)\n",
    "    img = caer.reshape(img, IMG_SIZE, 1)\n",
    "    return img"
   ]
  },
  {
   "cell_type": "code",
   "execution_count": null,
   "metadata": {
    "execution": {
     "iopub.execute_input": "2024-03-13T19:17:22.200577Z",
     "iopub.status.busy": "2024-03-13T19:17:22.199820Z",
     "iopub.status.idle": "2024-03-13T19:17:22.276815Z",
     "shell.execute_reply": "2024-03-13T19:17:22.275907Z",
     "shell.execute_reply.started": "2024-03-13T19:17:22.200542Z"
    }
   },
   "outputs": [],
   "source": [
    "predictions = model.predict(prepare(img))\n"
   ]
  },
  {
   "cell_type": "code",
   "execution_count": null,
   "metadata": {
    "execution": {
     "iopub.execute_input": "2024-03-13T19:17:25.076400Z",
     "iopub.status.busy": "2024-03-13T19:17:25.076012Z",
     "iopub.status.idle": "2024-03-13T19:17:25.081652Z",
     "shell.execute_reply": "2024-03-13T19:17:25.080446Z",
     "shell.execute_reply.started": "2024-03-13T19:17:25.076371Z"
    }
   },
   "outputs": [],
   "source": [
    "print(characters[np.argmax(predictions[0])])"
   ]
  }
 ],
 "metadata": {
  "kaggle": {
   "accelerator": "nvidiaTeslaT4",
   "dataSources": [
    {
     "datasetId": 1408,
     "sourceId": 27569,
     "sourceType": "datasetVersion"
    }
   ],
   "dockerImageVersionId": 30665,
   "isGpuEnabled": true,
   "isInternetEnabled": true,
   "language": "python",
   "sourceType": "notebook"
  },
  "kernelspec": {
   "display_name": "Python 3 (ipykernel)",
   "language": "python",
   "name": "python3"
  },
  "language_info": {
   "codemirror_mode": {
    "name": "ipython",
    "version": 3
   },
   "file_extension": ".py",
   "mimetype": "text/x-python",
   "name": "python",
   "nbconvert_exporter": "python",
   "pygments_lexer": "ipython3",
   "version": "3.9.15"
  }
 },
 "nbformat": 4,
 "nbformat_minor": 4
}
