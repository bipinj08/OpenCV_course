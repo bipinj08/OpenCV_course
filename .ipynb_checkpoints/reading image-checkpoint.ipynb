{
 "cells": [
  {
   "cell_type": "code",
   "execution_count": 4,
   "id": "e81c5d94",
   "metadata": {},
   "outputs": [],
   "source": [
    "import cv2 as cv"
   ]
  },
  {
   "cell_type": "code",
   "execution_count": null,
   "id": "6b897cfb",
   "metadata": {},
   "outputs": [],
   "source": [
    "import os\n",
    "cwd = os.cwd()"
   ]
  },
  {
   "cell_type": "code",
   "execution_count": 5,
   "id": "31c58a99",
   "metadata": {},
   "outputs": [
    {
     "data": {
      "text/plain": [
       "array([[[224, 196, 189],\n",
       "        [225, 197, 190],\n",
       "        [225, 197, 190],\n",
       "        ...,\n",
       "        [231, 209, 197],\n",
       "        [232, 210, 198],\n",
       "        [233, 211, 199]],\n",
       "\n",
       "       [[226, 200, 193],\n",
       "        [226, 200, 193],\n",
       "        [226, 200, 193],\n",
       "        ...,\n",
       "        [230, 208, 196],\n",
       "        [230, 208, 196],\n",
       "        [231, 209, 197]],\n",
       "\n",
       "       [[229, 206, 198],\n",
       "        [229, 206, 198],\n",
       "        [229, 206, 198],\n",
       "        ...,\n",
       "        [228, 206, 195],\n",
       "        [227, 207, 196],\n",
       "        [227, 207, 196]],\n",
       "\n",
       "       ...,\n",
       "\n",
       "       [[ 58,  59,  57],\n",
       "        [ 61,  62,  60],\n",
       "        [ 60,  61,  59],\n",
       "        ...,\n",
       "        [127, 126, 106],\n",
       "        [102, 101,  81],\n",
       "        [ 87,  86,  66]],\n",
       "\n",
       "       [[ 60,  61,  59],\n",
       "        [ 64,  65,  63],\n",
       "        [ 63,  64,  62],\n",
       "        ...,\n",
       "        [125, 124, 104],\n",
       "        [102, 103,  83],\n",
       "        [ 87,  88,  68]],\n",
       "\n",
       "       [[ 61,  62,  60],\n",
       "        [ 66,  67,  65],\n",
       "        [ 64,  65,  63],\n",
       "        ...,\n",
       "        [106, 105,  85],\n",
       "        [ 87,  88,  68],\n",
       "        [ 75,  76,  56]]], dtype=uint8)"
      ]
     },
     "execution_count": 5,
     "metadata": {},
     "output_type": "execute_result"
    }
   ],
   "source": [
    "cv.imread(r'Photos\\gmunden.jpg')"
   ]
  }
 ],
 "metadata": {
  "kernelspec": {
   "display_name": "Python 3 (ipykernel)",
   "language": "python",
   "name": "python3"
  },
  "language_info": {
   "codemirror_mode": {
    "name": "ipython",
    "version": 3
   },
   "file_extension": ".py",
   "mimetype": "text/x-python",
   "name": "python",
   "nbconvert_exporter": "python",
   "pygments_lexer": "ipython3",
   "version": "3.9.15"
  }
 },
 "nbformat": 4,
 "nbformat_minor": 5
}
